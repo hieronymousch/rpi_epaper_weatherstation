{
 "cells": [
  {
   "cell_type": "code",
   "execution_count": 52,
   "metadata": {},
   "outputs": [
    {
     "name": "stdout",
     "output_type": "stream",
     "text": [
      "Populating the interactive namespace from numpy and matplotlib\n"
     ]
    }
   ],
   "source": [
    "import io\n",
    "import os\n",
    "import PIL\n",
    "from PIL import Image, ImageOps\n",
    "import requests\n",
    "import pyquery as pq\n",
    "%pylab inline"
   ]
  },
  {
   "cell_type": "code",
   "execution_count": 62,
   "metadata": {},
   "outputs": [],
   "source": [
    "def get_icon_as_bmp(name):\n",
    "    res = requests.get(f\"http://openweathermap.org/img/w/{name}.png\")\n",
    "    f = io.BytesIO(res.content)\n",
    "    \n",
    "    img = Image.open(f).convert(\"L\")\n",
    "    img = ImageOps.invert(img)\n",
    "    img = img.resize((150, 150))\n",
    "    img = img.convert(\"1\")\n",
    "    return img"
   ]
  },
  {
   "cell_type": "code",
   "execution_count": 63,
   "metadata": {},
   "outputs": [],
   "source": [
    "doc = pq.PyQuery(url=\"https://openweathermap.org/weather-conditions\")\n",
    "icons = [td.text.split(\".\")[0] for td in doc(\"table\").eq(0)(\"tr td:first-child\")]"
   ]
  },
  {
   "cell_type": "code",
   "execution_count": 64,
   "metadata": {},
   "outputs": [],
   "source": [
    "if not os.path.isdir(\"icons\"):\n",
    "    os.mkdir(\"icons\")\n",
    "\n",
    "for icon in icons:\n",
    "    img = get_icon_as_bmp(icon)\n",
    "    img.save(f\"icons/{icon}.bmp\")"
   ]
  },
  {
   "cell_type": "code",
   "execution_count": null,
   "metadata": {},
   "outputs": [],
   "source": []
  }
 ],
 "metadata": {
  "kernelspec": {
   "display_name": "Python 3",
   "language": "python",
   "name": "python3"
  },
  "language_info": {
   "codemirror_mode": {
    "name": "ipython",
    "version": 3
   },
   "file_extension": ".py",
   "mimetype": "text/x-python",
   "name": "python",
   "nbconvert_exporter": "python",
   "pygments_lexer": "ipython3",
   "version": "3.7.0"
  }
 },
 "nbformat": 4,
 "nbformat_minor": 2
}
